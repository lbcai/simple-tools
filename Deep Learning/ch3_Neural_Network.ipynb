{
 "cells": [
  {
   "cell_type": "code",
   "execution_count": 3,
   "id": "sealed-asian",
   "metadata": {},
   "outputs": [
    {
     "name": "stdout",
     "output_type": "stream",
     "text": [
      "The prediction for the baseball team to win based on average number of toes of players:  0.8500000000000001\n"
     ]
    }
   ],
   "source": [
    "# Grokking Deep Learning by Andrew W. Trask\n",
    "# Ch 3: Introduction to Neural Prediction \n",
    "\n",
    "# Extreme simple example of a neural network.\n",
    "\n",
    "# knowledge\n",
    "weight = 0.1\n",
    "\n",
    "def neural_network(input, weight):\n",
    "    prediction = input * weight\n",
    "    return prediction\n",
    "\n",
    "\n",
    "number_of_toes = [8.5, 9.5, 10, 9]\n",
    "\n",
    "# information\n",
    "input = number_of_toes[0]\n",
    "\n",
    "print('The prediction for the baseball team to win based on average number of toes of players: ', neural_network(input, weight))"
   ]
  },
  {
   "cell_type": "code",
   "execution_count": 17,
   "id": "standing-truck",
   "metadata": {},
   "outputs": [
    {
     "name": "stdout",
     "output_type": "stream",
     "text": [
      "[[0, 1, 4], [0, 2, 8]] [[0, 2, 4], [2, 4, 6]] 9 1.875\n",
      "20\n"
     ]
    }
   ],
   "source": [
    "# Vector Math Challenge\n",
    "\n",
    "def elementwise_multiplication(vec_a, vec_b):\n",
    "    vec_c = []\n",
    "    if len(vec_a) == len(vec_b):\n",
    "        for i in range(0, len(vec_a)):\n",
    "            if type(vec_a[i]) is list and type(vec_b[i]) is list:\n",
    "                vec_c.append([])\n",
    "                for j in range(0, len(vec_a[i])):\n",
    "                    vec_c[i].append(vec_a[i][j] * vec_b[i][j])\n",
    "            elif type(vec_a[i]) is not list and type(vec_b[i]) is not list:\n",
    "                vec_c.append(vec_a[i] * vec_b[i])\n",
    "            else:\n",
    "                print('The vectors are not the same size.')\n",
    "                break\n",
    "        return vec_c\n",
    "    else:\n",
    "        print('The vectors are not the same size.')\n",
    "\n",
    "def elementwise_addition(vec_a, vec_b):\n",
    "    vec_c = []\n",
    "    if len(vec_a) == len(vec_b):\n",
    "        for i in range(0, len(vec_a)):\n",
    "            if type(vec_a[i]) is list and type(vec_b[i]) is list:\n",
    "                vec_c.append([])\n",
    "                for j in range(0, len(vec_a[i])):\n",
    "                    vec_c[i].append(vec_a[i][j] + vec_b[i][j])\n",
    "            elif type(vec_a[i]) is not list and type(vec_b[i]) is not list:\n",
    "                vec_c.append(vec_a[i] + vec_b[i])\n",
    "            else:\n",
    "                print('The vectors are not the same size.')\n",
    "                break\n",
    "        return vec_c\n",
    "    else:\n",
    "        print('The vectors are not the same size.')\n",
    "    \n",
    "def vector_sum(vec_a):\n",
    "    sum = 0\n",
    "    for i in range(0, len(vec_a)):\n",
    "        if type(vec_a[i]) == list:\n",
    "            sum = sum + vector_sum(vec_a[i])\n",
    "        else:\n",
    "            sum = sum + vec_a[i]\n",
    "    return sum\n",
    "    \n",
    "def vector_average(vec_a):\n",
    "    sum = 0\n",
    "    for i in range(0, len(vec_a)):\n",
    "        if type(vec_a[i]) == list:\n",
    "            sub_avg = vector_average(vec_a[i])\n",
    "            sum = sum + sub_avg\n",
    "        else:\n",
    "            sum = sum + vec_a[i]\n",
    "    avg = sum / len(vec_a)\n",
    "    return avg\n",
    "\n",
    "one = elementwise_multiplication([[0, 1, 2], [1, 2, 4]], [[0, 1, 2], [0, 1, 2]])\n",
    "two = elementwise_addition([[0, 1, 2], [1, 2, 3]], [[0, 1, 2], [1, 2, 3]])\n",
    "three = vector_sum([[0, 1, 3, 5], [0, 1, 2, -3]])\n",
    "four = vector_average([[2, 2, 0, 1], [1, 2, 3, 4]])\n",
    "print(one, two, three, four)\n",
    "dot_product = vector_sum(elementwise_multiplication([0, 1, 2], [5, 6, 7]))\n",
    "print(dot_product)"
   ]
  },
  {
   "cell_type": "code",
   "execution_count": null,
   "id": "simplified-parking",
   "metadata": {},
   "outputs": [],
   "source": []
  }
 ],
 "metadata": {
  "kernelspec": {
   "display_name": "Python 3",
   "language": "python",
   "name": "python3"
  },
  "language_info": {
   "codemirror_mode": {
    "name": "ipython",
    "version": 3
   },
   "file_extension": ".py",
   "mimetype": "text/x-python",
   "name": "python",
   "nbconvert_exporter": "python",
   "pygments_lexer": "ipython3",
   "version": "3.9.0"
  }
 },
 "nbformat": 4,
 "nbformat_minor": 5
}
