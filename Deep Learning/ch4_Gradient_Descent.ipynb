{
 "cells": [
  {
   "cell_type": "code",
   "execution_count": 2,
   "id": "exact-input",
   "metadata": {},
   "outputs": [
    {
     "name": "stdout",
     "output_type": "stream",
     "text": [
      "0.30250000000000005\n"
     ]
    }
   ],
   "source": [
    "# Grokking Deep Learning by Andrew W. Trask\n",
    "# Ch 4: Gradient Descent\n",
    "\n",
    "# Mean Squared Error: one simple way to calculate error of prediction.\n",
    "\n",
    "knob_weight = 0.5\n",
    "input = 0.5\n",
    "\n",
    "# Real measured result.\n",
    "goal_pred = 0.8\n",
    "\n",
    "pred = input * knob_weight\n",
    "\n",
    "# Squared to force positive error. Negative error does not make sense since we consider all error positive.\n",
    "# Also, small <1 errors are reduced in importance and big >1 errors are amplified in importance, which is okay\n",
    "# since this is realistic (if error is 10, adjusted = 100; if 0.01, adjusted = 0.0001). Ideally, we want error to be 0.\n",
    "error = (pred - goal_pred) ** 2\n",
    "\n",
    "print(error)"
   ]
  },
  {
   "cell_type": "code",
   "execution_count": 1,
   "id": "regulation-blank",
   "metadata": {},
   "outputs": [],
   "source": [
    "weight = 0.5\n",
    "input = 0.5\n",
    "goal_prediction = 0.8\n",
    "\n",
    "# how much to move the weight every time it corrects itself\n",
    "step_amount = 0.001\n",
    "\n",
    "for iteration in range(1101):\n",
    "    prediction = input * weight\n",
    "    error = (prediction - goal_prediction) ** 2\n",
    "    \n",
    "    # commented out the print statement because it produces huge block of text\n",
    "    # print(\"Error: \" + str(error) + \"  Prediction: \" + str(prediction))\n",
    "    \n",
    "    up_prediction = input * (weight + step_amount)\n",
    "    up_error = (goal_prediction - up_prediction) ** 2\n",
    "    \n",
    "    down_prediction = input * (weight - step_amount)\n",
    "    down_error = (goal_prediction - down_prediction) ** 2\n",
    "    \n",
    "    if (down_error < up_error):\n",
    "        weight = weight - step_amount\n",
    "    elif (down_error > up_error):\n",
    "        weight = weight + step_amount\n",
    "\n",
    "# This is hot and cold learning. It's inefficient and the fixed step amount is a bummer."
   ]
  },
  {
   "cell_type": "code",
   "execution_count": 1,
   "id": "posted-refund",
   "metadata": {},
   "outputs": [
    {
     "name": "stdout",
     "output_type": "stream",
     "text": [
      "Error: 0.30250000000000005  Prediction: 0.25\n",
      "Error: 0.17015625000000004  Prediction: 0.3875\n",
      "Error: 0.095712890625  Prediction: 0.49062500000000003\n",
      "Error: 0.05383850097656251  Prediction: 0.56796875\n",
      "Error: 0.03028415679931642  Prediction: 0.6259765625\n",
      "Error: 0.0170348381996155  Prediction: 0.669482421875\n",
      "Error: 0.00958209648728372  Prediction: 0.70211181640625\n",
      "Error: 0.005389929274097089  Prediction: 0.7265838623046875\n",
      "Error: 0.0030318352166796153  Prediction: 0.7449378967285156\n",
      "Error: 0.0017054073093822882  Prediction: 0.7587034225463867\n",
      "Error: 0.0009592916115275371  Prediction: 0.76902756690979\n",
      "Error: 0.0005396015314842384  Prediction: 0.7767706751823426\n",
      "Error: 0.000303525861459885  Prediction: 0.7825780063867569\n",
      "Error: 0.00017073329707118678  Prediction: 0.7869335047900676\n",
      "Error: 9.603747960254256e-05  Prediction: 0.7902001285925507\n",
      "Error: 5.402108227642978e-05  Prediction: 0.7926500964444131\n",
      "Error: 3.038685878049206e-05  Prediction: 0.7944875723333098\n",
      "Error: 1.7092608064027242e-05  Prediction: 0.7958656792499823\n",
      "Error: 9.614592036015323e-06  Prediction: 0.7968992594374867\n",
      "Error: 5.408208020258491e-06  Prediction: 0.7976744445781151\n"
     ]
    }
   ],
   "source": [
    "# In comparison, here is GRADIENT DESCENT. It calculates the direction and the amount of the step we should apply\n",
    "# to the weight in one calculation.\n",
    "\n",
    "weight = 0.5\n",
    "goal_pred = 0.8\n",
    "input = 0.5\n",
    "\n",
    "for iteration in range(20):\n",
    "    pred = input * weight\n",
    "    error = (pred - goal_pred) ** 2\n",
    "    \n",
    "    # Gradient descent!\n",
    "    # Multiply pure error (pred - goal_pred) by input to address edge cases by adding stopping (0 input), \n",
    "    # negative reversal (negative input), and scaling (large input should move the weight more so we don't take forever \n",
    "    # with tiny steps)\n",
    "    # pure error = raw amount that you were off (big = big error, positive = too high and not too low, etc.)\n",
    "    \n",
    "    # There are 3 edge cases where the pure error is not enough to give a good amount you should modify the weight (knob).\n",
    "    # 1. When the input is 0 (stopping): there is nothing to learn when input is 0 because all weight values give the same\n",
    "    #    error value. When input is 0, we should ignore it or else we can make bad conclusions. We multiply by input (which is\n",
    "    #    0 in this case) and this prevents learning because the direction_and_amount will be 0 so there is no change.\n",
    "    # 2. When the input is negative (negative reversal): if you expect negative input, you can't learn properly from it because\n",
    "    #    when you move the weight up, you are really making it a smaller negative number (-1 -> -10), which causes the model\n",
    "    #    to think that it is more wrong instead of more right. If input is negative, since we multiply the pure error by input,\n",
    "    #    it will flip the sign to the right direction.\n",
    "    # 3. When the input is large (scaling): large input means the weight update should also be large. By multiplying the pure \n",
    "    #    error by input, we can make sure this is true. We will see examples later where this gets out of control and we will\n",
    "    #    use alpha to fix that. Alpha is a value that prevents learning too quickly or else the network can overshoot by editing\n",
    "    #    weights too aggressively.\n",
    "    direction_and_amount = (pred - goal_pred) * input\n",
    "    \n",
    "    weight = weight - direction_and_amount\n",
    "    \n",
    "    # This produces a much smaller block of text than the hot/cold method above.\n",
    "    print(\"Error: \" + str(error) + \"  Prediction: \" + str(pred))"
   ]
  },
  {
   "cell_type": "code",
   "execution_count": 16,
   "id": "stopped-difficulty",
   "metadata": {},
   "outputs": [
    {
     "data": {
      "image/png": "[encoded data removed]",
      "text/plain": [
       "<Figure size 288x288 with 1 Axes>"
      ]
     },
     "metadata": {
      "needs_background": "light"
     },
     "output_type": "display_data"
    }
   ],
   "source": [
    "# pred = input * weight\n",
    "# error = (pred - goal_pred) ** 2\n",
    "\n",
    "# Error and weight have an exact relationship defined:\n",
    "# error = ((input * weight) - goal_pred) ** 2\n",
    "\n",
    "# The above equation forms a parabola. The lowest point on this parabola is the place where there is 0 error and the graph\n",
    "# touches the x-axis, y is 0. \n",
    "# Any point on the parabola represents the current weight and the current error. Any point has a slope tangential to the graph \n",
    "# of the parabola. This slope always points towards the lowest point on the graph, meaning we can use the slope to find out the \n",
    "# direction and magnitude we should apply to weight to reach an error of 0.\n",
    "\n",
    "import matplotlib.pyplot as plt\n",
    "import numpy as np\n",
    "\n",
    "x = np.arange(-10, 11, 1)\n",
    "y = x ** 2\n",
    "plt.figure(figsize=(4, 4))\n",
    "plt.xlabel(\"Weight\")\n",
    "plt.ylabel(\"Error\")\n",
    "plt.xlim(-10, 10)\n",
    "plt.ylim(-10, 100)\n",
    "\n",
    "x_error = np.array([0])\n",
    "y_error = np.array([0])\n",
    "x_error2 = np.array([-6])\n",
    "y_error2 = np.array([36])\n",
    "plt.scatter(x_error, y_error, s = 300, color = \"black\", facecolors = \"none\", linestyle = \"dashed\")\n",
    "plt.scatter(x_error2, y_error2, s = 150)\n",
    "\n",
    "plt.axhline(0, color = \"black\", linewidth = 1)\n",
    "# equation for the slope at the point happens to be y = -12x - 36\n",
    "plt.annotate(\"\", xy = (-4, 12), xytext = (-8, 60), arrowprops = dict(arrowstyle = \"->\"))\n",
    "plt.annotate(\"no error\", xy = (0, 0), xytext = (-1.6, 10))\n",
    "plt.plot(x, y)\n",
    "plt.show()\n",
    "\n",
    "# Machine learning research is about applying new things to the pred = input * weight equation to make better models. We cannot \n",
    "# change input because that's what we observed in the real world (so we would be interpreting results according to our whims)\n",
    "# but we can change weight to change how we predict and reduce error.\n",
    "\n",
    "# The graph represents what happens if you have a fixed input and goal_pred but plot every weight and each of their errors. \n",
    "# There will be a weight that gives a result with no error. This is the weight we want for this input."
   ]
  },
  {
   "cell_type": "code",
   "execution_count": 18,
   "id": "saving-times",
   "metadata": {},
   "outputs": [],
   "source": [
    "# The derivative is just the relationship between two variables. So derivative of y = 2x is just 2, and this means if y is moved\n",
    "# in a direction, x will move in the same direction twice as much. If the derivative is negative, then when you change one \n",
    "# variable, the other moves in the opposite direction. \n",
    "\n",
    "# The derivative is also the slope of a line at a point on a curve (see graph above). The derivative tells us how far we are\n",
    "# from the weight value that will give us no error. It tells us the relationship between weight and error.\n",
    "\n",
    "# The slope has an inverse relationship with the amount we should correct our weight. So a negative slope means we are too low\n",
    "# and should aim higher, adding a positive value to our weight, as in the graph above.\n",
    "\n",
    "# The derivative is just raw error * input. It is just direction_and_amount above. \n",
    "# delta = pred - goal_pred\n",
    "# weight_delta = delta * input <- the derivative, the slope\n",
    "# weight = weight - weight_delta <- minus because of the inverse relationship. Update the weight, learn.\n",
    "\n",
    "# Divergence\n",
    "# Now let's talk about alpha. If input is large, the update to the weight will be large. This causes problems when the error is\n",
    "# small. It will make us overshoot the prediction. Since it was a large input, we overshot the prediction by a lot. Since we\n",
    "# are so far off now, we have a very high error and this will cause us to overshoot again in the opposite direction. So we kind\n",
    "# of dropped a ball into a bowl and it's just accelerating somehow over and over. That is divergence.\n",
    "\n",
    "# weight = weight - (input * (pred - goal_pred))\n",
    "\n",
    "# Basically, the derivative is really big. Small changes in weight mean big changes in error. We multiply the derivative by\n",
    "# alpha to make it smaller and allow us more flexibility and improve our correction ability.\n",
    "\n",
    "# If learning is too slow, increase alpha. If divergence is observed (increasing error), then you decrease alpha. Alpha is \n",
    "# determined with trial and error.\n",
    "\n",
    "# weight = weight - (derivative * alpha)"
   ]
  },
  {
   "cell_type": "code",
   "execution_count": 26,
   "id": "ambient-perception",
   "metadata": {},
   "outputs": [
    {
     "name": "stdout",
     "output_type": "stream",
     "text": [
      "Error:  6272.64  Weight:  -1.1680000000000001  Pred:  80\n",
      "Error:  2258.1504000000004  Weight:  0.7328000000000001  Pred:  -46.720000000000006\n",
      "Error:  812.9341440000002  Weight:  -0.40768000000000004  Pred:  29.312000000000005\n",
      "Error:  292.6562918400001  Weight:  0.2766080000000001  Pred:  -16.3072\n",
      "Error:  105.35626506240003  Weight:  -0.13396479999999994  Pred:  11.064320000000002\n",
      "Error:  37.92825542246398  Weight:  0.11237887999999999  Pred:  -5.358591999999998\n",
      "Error:  13.654171952087035  Weight:  -0.03542732799999998  Pred:  4.495155199999999\n",
      "Error:  4.915501902751332  Weight:  0.053256396799999994  Pred:  -1.4170931199999992\n",
      "Error:  1.7695806849904796  Weight:  4.616192000000269e-05  Pred:  2.1302558719999998\n",
      "Error:  0.6370490465965728  Weight:  0.031972302848  Pred:  0.0018464768000001075\n",
      "Error:  0.22933765677476622  Weight:  0.0128166182912  Pred:  1.27889211392\n",
      "Error:  0.0825615564389159  Weight:  0.024310029025280004  Pred:  0.512664731648\n",
      "Error:  0.02972216031800977  Weight:  0.017413982584831997  Pred:  0.9724011610112002\n",
      "Error:  0.01069997771448353  Weight:  0.021551610449100804  Pred:  0.6965593033932799\n",
      "Error:  0.003851991977214079  Weight:  0.019069033730539517  Pred:  0.8620644179640322\n",
      "Error:  0.0013867171117970735  Weight:  0.020558579761676292  Pred:  0.7627613492215807\n",
      "Error:  0.0004992181602469494  Weight:  0.019664852142994224  Pred:  0.8223431904670517\n",
      "Error:  0.0001797185376889036  Weight:  0.020201088714203466  Pred:  0.786594085719769\n",
      "Error:  6.469867356800458e-05  Weight:  0.019879346771477922  Pred:  0.8080435485681386\n",
      "Error:  2.3291522484481005e-05  Weight:  0.020072391937113247  Pred:  0.795173870859117\n"
     ]
    }
   ],
   "source": [
    "# Try to code gradient descent neural network on your own.\n",
    "alpha = 0.001\n",
    "weight = 2\n",
    "goal_pred = 0.8\n",
    "input = 40\n",
    "\n",
    "for iteration in range(20):\n",
    "    pred = input * weight\n",
    "    error = (pred - goal_pred) ** 2\n",
    "    derivative = (pred - goal_pred) * input\n",
    "    \n",
    "    # Update the weight each iteration = learning.\n",
    "    weight = weight - (derivative * alpha)\n",
    "    \n",
    "    print(\"Error: \", error, \" Weight: \", weight, \" Pred: \", pred)"
   ]
  }
 ],
 "metadata": {
  "kernelspec": {
   "display_name": "Python 3",
   "language": "python",
   "name": "python3"
  },
  "language_info": {
   "codemirror_mode": {
    "name": "ipython",
    "version": 3
   },
   "file_extension": ".py",
   "mimetype": "text/x-python",
   "name": "python",
   "nbconvert_exporter": "python",
   "pygments_lexer": "ipython3",
   "version": "3.9.0"
  }
 },
 "nbformat": 4,
 "nbformat_minor": 5
}
